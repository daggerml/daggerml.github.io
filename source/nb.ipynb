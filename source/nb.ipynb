{
 "cells": [
  {
   "cell_type": "raw",
   "id": "5bd1cb1f",
   "metadata": {
    "vscode": {
     "languageId": "raw"
    }
   },
   "source": [
    "---\n",
    "title: How-To Guide\n",
    "---"
   ]
  },
  {
   "cell_type": "markdown",
   "id": "d6c614bb",
   "metadata": {},
   "source": [
    "# How-To Guide"
   ]
  },
  {
   "cell_type": "code",
   "execution_count": 1,
   "id": "5477d651",
   "metadata": {
    "tags": [
     "remove-cell"
    ]
   },
   "outputs": [],
   "source": [
    "import os\n",
    "from atexit import register\n",
    "from tempfile import TemporaryDirectory\n",
    "\n",
    "tmpd = TemporaryDirectory()\n",
    "register(tmpd.cleanup)\n",
    "\n",
    "os.environ[\"DML_CONFIG_DIR\"] = f\"{tmpd.name}/config\"\n",
    "os.environ[\"DML_PROJECT_DIR\"] = f\"{tmpd.name}/project\"\n",
    "os.mkdir(os.environ[\"DML_CONFIG_DIR\"])\n",
    "os.mkdir(os.environ[\"DML_PROJECT_DIR\"])\n",
    "os.environ[\"DML_REPO\"] = \"testing\""
   ]
  },
  {
   "cell_type": "markdown",
   "id": "5e4c97a2",
   "metadata": {},
   "source": [
    "This guide will walk you through the most useful aspects of DaggerML,\n",
    "including creating and managing DAGs, using the API, and running tests.\n",
    "\n",
    "## Basic Usage\n",
    "\n",
    "### The Basics\n",
    "\n",
    "Let's go over some of the basic operations on dags. Once a dag is\n",
    "created, you can add nodes as leaves (literal nodes) and commit values.\n",
    "The nodes you add can be collections of values or of other nodes."
   ]
  },
  {
   "cell_type": "code",
   "execution_count": 2,
   "id": "ad58a456",
   "metadata": {},
   "outputs": [
    {
     "data": {
      "text/plain": [
       "{'DML_CONFIG_DIR': '/var/folders/s9/25vs18pn1kj680k76kc6zvlm0000gn/T/tmpf8hagf32',\n",
       " 'DML_PROJECT_DIR': '/var/folders/s9/25vs18pn1kj680k76kc6zvlm0000gn/T/tmpf8hagf32'}"
      ]
     },
     "execution_count": 2,
     "metadata": {},
     "output_type": "execute_result"
    }
   ],
   "source": [
    "import os\n",
    "{k: v for k, v in os.environ.items() if k.startswith(\"DML_\")}"
   ]
  },
  {
   "cell_type": "code",
   "execution_count": 2,
   "id": "3977dfc4",
   "metadata": {},
   "outputs": [
    {
     "data": {
      "text/plain": [
       "Ref(to='dag/d200abf7a18f5286c8de309b31c72447')"
      ]
     },
     "execution_count": 2,
     "metadata": {},
     "output_type": "execute_result"
    }
   ],
   "source": [
    "import daggerml as dml\n",
    "\n",
    "\n",
    "api = dml.Api()\n",
    "api('repo', 'create', 'testing')\n",
    "api('project', 'init', 'testing')\n",
    "\n",
    "dag = dml.new(name=\"example_dag\", message=\"Example DAG creation\")\n",
    "# Add nodes to the DAG\n",
    "node0 = dag.put(3)\n",
    "node1 = dag.put(\"example\")\n",
    "# node2 = dag.put({node0, node1})\n",
    "node3 = dag.put({\"node0\": node0.value(), \"node1\": node1})\n",
    "node4 = dag.put([node1, node3])\n",
    "assert node4.value() == [node1.value(), node3.value()]\n",
    "# Commit the DAG\n",
    "dag.commit(node3)"
   ]
  },
  {
   "cell_type": "code",
   "execution_count": null,
   "id": "2636b8da",
   "metadata": {},
   "outputs": [],
   "source": []
  },
  {
   "cell_type": "code",
   "execution_count": null,
   "id": "5443ef30",
   "metadata": {},
   "outputs": [],
   "source": [
    "import daggerml as dml\n",
    "\n",
    "with dml.Api(initialize=True) as api:\n",
    "    # initialize dml in the temporary directory\n",
    "    # Create a new DAG\n",
    "    dag = api.new_dag(name=\"example_dag\", message=\"Example DAG creation\")\n",
    "    # Add nodes to the DAG\n",
    "    node0 = dag.put(3)\n",
    "    node1 = dag.put(\"example\")\n",
    "    # node2 = dag.put({node0, node1})\n",
    "    node3 = dag.put({\"node0\": node0.value(), \"node1\": node1})\n",
    "    node4 = dag.put([node1, node3])\n",
    "    assert node4.value() == [node1.value(), node3.value()]\n",
    "    # Commit the DAG\n",
    "    dag.commit(node3)"
   ]
  },
  {
   "cell_type": "markdown",
   "id": "1c40fb45",
   "metadata": {},
   "source": [
    "We can load values from previously run dags by their name."
   ]
  },
  {
   "cell_type": "code",
   "execution_count": null,
   "id": "6f939ef8",
   "metadata": {},
   "outputs": [],
   "source": [
    "import daggerml as dml\n",
    "\n",
    "with dml.Api(initialize=True) as api:\n",
    "    # Create a new DAG\n",
    "    dag = api.new_dag(name=\"example dag\", message=\"Example DAG creation\")\n",
    "    # Add nodes to the DAG\n",
    "    node0 = dag.put(3)\n",
    "    node1 = dag.put(\"example\")\n",
    "    node2 = dag.put({node0, node1})\n",
    "    node3 = dag.put({\"node0\": node0.value(), \"node1\": node1, \"node2\": node2})\n",
    "    node4 = dag.put([node2, node3])\n",
    "    assert node4.value() == [node2.value(), node3.value()]\n",
    "    # Commit the DAG\n",
    "    dag.commit(node4)\n",
    "\n",
    "    new_dag = api.new_dag(name=\"another example\", message=\"Another example DAG\")\n",
    "    node = new_dag.load(\"example dag\")\n",
    "    print(node.value())"
   ]
  },
  {
   "cell_type": "markdown",
   "id": "5cbc7e18",
   "metadata": {},
   "source": [
    "DaggerML is a Python library that provides a simple interface for\n",
    "creating and managing Directed Acyclic Graphs (DAGs). A DAG is a\n",
    "collection of nodes that are connected by edges, where each edge\n",
    "represents a dependency between two nodes. The library provides a set of\n",
    "classes and methods that allow you to create, manipulate, and visualize\n",
    "DAGs.\n",
    "\n",
    "To create a new DAG, you can use the [Dag]{.title-ref} class from the\n",
    "[daggerml.core]{.title-ref} module. Here is an example:"
   ]
  },
  {
   "cell_type": "code",
   "execution_count": null,
   "id": "7c656e16",
   "metadata": {},
   "outputs": [],
   "source": [
    "import daggerml as dml\n",
    "\n",
    "# Create a new DAG\n",
    "dag = dml.new(name=\"example_dag\", message=\"Example DAG creation\")\n",
    "\n",
    "# Add nodes to the DAG\n",
    "node1 = dag.put(3)\n",
    "node2 = dag.put(\"example\")\n",
    "node3 = dag.put([node1, node2])\n",
    "\n",
    "# Commit the DAG\n",
    "dag.commit(node3)"
   ]
  },
  {
   "cell_type": "markdown",
   "id": "bf3ecea7",
   "metadata": {},
   "source": [
    "### Creating a DAG\n",
    "\n",
    "To create a new DAG, you can use the [Dag]{.title-ref} class from the\n",
    "[daggerml.core]{.title-ref} module. Here is an example:"
   ]
  },
  {
   "cell_type": "code",
   "execution_count": null,
   "id": "41340107",
   "metadata": {},
   "outputs": [],
   "source": [
    "import daggerml as dml\n",
    "\n",
    "# Create a new DAG\n",
    "dag = dml.new(name=\"example_dag\", message=\"Example DAG creation\")\n",
    "\n",
    "# Add nodes to the DAG\n",
    "node1 = dag.put(3)\n",
    "node2 = dag.put(\"example\")\n",
    "node3 = dag.put([node1, node2])\n",
    "\n",
    "# Commit the DAG\n",
    "dag.commit(node3)"
   ]
  },
  {
   "cell_type": "markdown",
   "id": "8e48bb62",
   "metadata": {},
   "source": [
    "### Using the API Class\n",
    "\n",
    "The [Api]{.title-ref} class provides methods to interact with the DAGs.\n",
    "Here is an example of how to use the [Api]{.title-ref} class:"
   ]
  },
  {
   "cell_type": "code",
   "execution_count": null,
   "id": "d5dc62ab",
   "metadata": {},
   "outputs": [],
   "source": [
    "import daggerml as dml\n",
    "\n",
    "# Create an API instance\n",
    "api = dml.Api(config_dir=\"path/to/config/directory\")\n",
    "\n",
    "# Create a new DAG using the API\n",
    "dag = api.new_dag(name=\"example_dag\", message=\"Example DAG creation\")\n",
    "\n",
    "# Add nodes to the DAG\n",
    "node1 = dag.put(3)\n",
    "node2 = dag.put(\"example\")\n",
    "node3 = dag.put([node1, node2])\n",
    "\n",
    "# Commit the DAG\n",
    "dag.commit(node3)"
   ]
  },
  {
   "cell_type": "markdown",
   "id": "08a7069d",
   "metadata": {},
   "source": [
    "### Loading and Dumping a DAG\n",
    "\n",
    "You can load and dump a DAG using the [load]{.title-ref} and\n",
    "[dump]{.title-ref} methods of the [Dag]{.title-ref} class:"
   ]
  },
  {
   "cell_type": "code",
   "execution_count": null,
   "id": "637a3e95",
   "metadata": {},
   "outputs": [],
   "source": [
    "from daggerml.core import Dag\n",
    "\n",
    "# Load a DAG from a file\n",
    "dag = Dag.load(\"path/to/dag_file\")\n",
    "\n",
    "# Dump the DAG to a file\n",
    "dag.dump(\"path/to/dag_file\")"
   ]
  },
  {
   "cell_type": "markdown",
   "id": "69e573b9",
   "metadata": {},
   "source": [
    "## Advanced Usage\n",
    "\n",
    "### Dealing with the API\n",
    "\n",
    "The [Api]{.title-ref} class wraps the core functionality of DaggerML\n",
    "([daggerml-cli]{.title-ref}) in a python interface. You can speficy the\n",
    "repo when instantiating the [Api]{.title-ref} class, use the default\n",
    "repo, or create and initialize a temporary repo.\n",
    "\n",
    "#### Standard Usage\n",
    "\n",
    "To use the default repo, you can create an instance of the\n",
    "[Api]{.title-ref} class without specifying a repo. Here is an example:"
   ]
  },
  {
   "cell_type": "code",
   "execution_count": null,
   "id": "5e7ddf8b",
   "metadata": {},
   "outputs": [],
   "source": [
    "import daggerml as dml\n",
    "\n",
    "# Create an API instance\n",
    "api = dml.Api()\n",
    "# Create a new DAG using the API\n",
    "dag = api.new_dag(name=\"example_dag\", message=\"Example DAG creation\")"
   ]
  },
  {
   "cell_type": "markdown",
   "id": "d512d161",
   "metadata": {},
   "source": [
    "#### Using a Temporary Repo\n",
    "\n",
    "To use a temporary repo, you can create an instance of the\n",
    "[Api]{.title-ref} class without specifying a repo and specifying\n",
    "[initialize=True]{.title-ref}. Here is an example:"
   ]
  },
  {
   "cell_type": "code",
   "execution_count": null,
   "id": "df3124c9",
   "metadata": {},
   "outputs": [],
   "source": [
    "import daggerml as dml\n",
    "\n",
    "# Create an API instance with a temporary repo\n",
    "api = dml.Api(initialize=True)\n",
    "# do whatever you want with the API\n",
    "api.cleanup()"
   ]
  },
  {
   "cell_type": "markdown",
   "id": "ed62b02b",
   "metadata": {},
   "source": [
    "You can also use the [Api]{.title-ref} class as a context manager to\n",
    "automatically clean up the temporary repo:"
   ]
  },
  {
   "cell_type": "code",
   "execution_count": null,
   "id": "0031d9cc",
   "metadata": {},
   "outputs": [],
   "source": [
    "import daggerml as dml\n",
    "\n",
    "with dml.Api(initialize=True) as api:\n",
    "    # do whatever you want with the API\n",
    "    pass"
   ]
  },
  {
   "cell_type": "markdown",
   "id": "5ab1924d",
   "metadata": {},
   "source": [
    "#### Using a Specific Repo\n",
    "\n",
    "To use a specific repo, you can create an instance of the\n",
    "[Api]{.title-ref} class and specify the repo path. Here is an example:"
   ]
  },
  {
   "cell_type": "code",
   "execution_count": null,
   "id": "6b0668cf",
   "metadata": {},
   "outputs": [],
   "source": [
    "import daggerml as dml\n",
    "\n",
    "# Create an API instance with a specific repo\n",
    "api = dml.Api(config_dir=\"path/to/config/directory\")\n",
    "# Create a new DAG using the API\n",
    "dag = api.new_dag(name=\"example_dag\", message=\"Example DAG creation\")"
   ]
  },
  {
   "cell_type": "markdown",
   "id": "c2bca4e1",
   "metadata": {},
   "source": [
    "## Conclusion\n",
    "\n",
    "This guide provided an overview of the most useful aspects of DaggerML,\n",
    "including creating and managing DAGs, using the API, and running tests.\n",
    "For more detailed information, refer to the API documentation and the\n",
    "test suite."
   ]
  }
 ],
 "metadata": {
  "jupytext": {
   "cell_metadata_filter": "-all",
   "main_language": "python",
   "notebook_metadata_filter": "-all"
  },
  "kernelspec": {
   "display_name": ".venv",
   "language": "python",
   "name": "python3"
  },
  "language_info": {
   "codemirror_mode": {
    "name": "ipython",
    "version": 3
   },
   "file_extension": ".py",
   "mimetype": "text/x-python",
   "name": "python",
   "nbconvert_exporter": "python",
   "pygments_lexer": "ipython3",
   "version": "3.12.6"
  }
 },
 "nbformat": 4,
 "nbformat_minor": 5
}
